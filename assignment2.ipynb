{
 "cells": [
  {
   "cell_type": "code",
   "execution_count": null,
   "id": "f3e2f3e3",
   "metadata": {
    "vscode": {
     "languageId": "plaintext"
    }
   },
   "outputs": [],
   "source": [
    "#import required packages\n",
    "import random\n",
    "random.seed(42)\n",
    "from glob import glob\n",
    "from collections import defaultdict\n",
    "\n",
    "import numpy as np\n",
    "from numpy.random import choice\n",
    "\n",
    "from symusic import Score\n",
    "from miditok import REMI, TokenizerConfig\n",
    "from midiutil import MIDIFile\n",
    "\n",
    "#from datasets import load_dataset\n",
    "from google.colab import drive\n",
    "\n",
    "from datasets import load_dataset"
   ]
  }
 ],
 "metadata": {
  "language_info": {
   "name": "python"
  }
 },
 "nbformat": 4,
 "nbformat_minor": 5
}
